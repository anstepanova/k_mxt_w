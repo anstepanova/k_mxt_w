{
 "cells": [
  {
   "cell_type": "code",
   "execution_count": 1,
   "metadata": {},
   "outputs": [],
   "source": [
    "import dataImport\n",
    "import clustersData\n",
    "import numpy as np\n",
    "import clusteringAlgorithms\n",
    "import pandas as pd\n",
    "import copy\n",
    "import collections\n",
    "import numpy as np\n",
    "import time \n",
    "import draw\n",
    "import datetime"
   ]
  },
  {
   "cell_type": "code",
   "execution_count": 2,
   "metadata": {},
   "outputs": [],
   "source": [
    "City = collections.namedtuple('City', 'name path_csv latitude longitude')"
   ]
  },
  {
   "cell_type": "code",
   "execution_count": 3,
   "metadata": {},
   "outputs": [],
   "source": [
    "cities ={'spb': City(name='spb', path_csv='./datasets/geoflickr_spb.csv', latitude=59.9386300, longitude=30.3141300), 'prague': City(name='prague', path_csv='./datasets/geoflickr_prague.csv', latitude= 50.073658, longitude=14.418540)}"
   ]
  },
  {
   "cell_type": "code",
   "execution_count": 4,
   "metadata": {},
   "outputs": [],
   "source": [
    "city_key = 'spb'"
   ]
  },
  {
   "cell_type": "code",
   "execution_count": null,
   "metadata": {},
   "outputs": [
    {
     "name": "stdout",
     "output_type": "stream",
     "text": [
      "k-3, eps-0.05, time-7.71275782585144\n",
      "k-3, eps-0.1, time-9.454403638839722\n"
     ]
    }
   ],
   "source": [
    "data = dataImport.DataImportSpace(filename=cities[city_key].path_csv)\n",
    "x, y = data.get_data()\n",
    "time\n",
    "for k in [3, 4]:\n",
    "    for eps in np.arange(0.05, 0.5, 0.05):\n",
    "        clusters_data = clustersData.ClustersDataSpaceEuclidean(x_init=x, y_init=y)\n",
    "        alg = clusteringAlgorithms.K_MXT(k=k, eps=eps, clusters_data=clusters_data)\n",
    "        start_time = time.time()\n",
    "        alg()\n",
    "        end_time = time.time()\n",
    "        print(f'k-{k}, eps-{eps}, time-{end_time-start_time}')\n",
    "        draw.DrawingClusters.drawing_map(clusters_data, f'./results/clustering/{cities[city_key].name}/city_{cities[city_key].name}_k_{k}_eps_{eps}', cities[city_key].latitude, cities[city_key].longitude, 5)"
   ]
  },
  {
   "cell_type": "code",
   "execution_count": null,
   "metadata": {},
   "outputs": [],
   "source": []
  }
 ],
 "metadata": {
  "kernelspec": {
   "display_name": "Python 3",
   "language": "python",
   "name": "python3"
  },
  "language_info": {
   "codemirror_mode": {
    "name": "ipython",
    "version": 3
   },
   "file_extension": ".py",
   "mimetype": "text/x-python",
   "name": "python",
   "nbconvert_exporter": "python",
   "pygments_lexer": "ipython3",
   "version": "3.6.9"
  }
 },
 "nbformat": 4,
 "nbformat_minor": 4
}
