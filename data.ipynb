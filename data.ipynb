{
 "cells": [
  {
   "cell_type": "code",
   "execution_count": 1,
   "metadata": {},
   "outputs": [],
   "source": [
    "import pandas as pd\n",
    "import pandas_profiling\n",
    "import matplotlib.pyplot as plt\n",
    "from mpl_toolkits.mplot3d import Axes3D\n",
    "import ipywidgets as widgets\n",
    "from ipywidgets import interact, interact_manual\n",
    "from matplotlib import cm\n",
    "import matplotlib\n",
    "import collections\n",
    "import copy"
   ]
  },
  {
   "cell_type": "code",
   "execution_count": 2,
   "metadata": {},
   "outputs": [],
   "source": [
    "City = collections.namedtuple('City', 'name path_csv')"
   ]
  },
  {
   "cell_type": "code",
   "execution_count": 3,
   "metadata": {},
   "outputs": [],
   "source": [
    "class DataFrameInput:\n",
    "    df = None\n",
    "    \n",
    "    def __init__(self, city:City):\n",
    "        self.city = copy.copy(city)\n",
    "    \n",
    "    def read_csv(self):\n",
    "        self.df = pd.read_csv(self.city.path_csv, index_col=None)\n",
    "        \n",
    "    def make_plot_3d(self, z):\n",
    "        p = plt.figure(figsize=(45, 45)).gca(projection='3d')\n",
    "        p.scatter(self.df.latitude, self.df.longitude, self.df[z])\n",
    "        p.set_xlabel('latitude')\n",
    "        p.set_ylabel('longitude')\n",
    "        p.set_zlabel(z)\n",
    "        plt.show()\n",
    "    \n",
    "    def __copy__(self):\n",
    "        obj = DataFrameInput(city=self.city)\n",
    "        obj.df = copy.deepcopy(self.df)\n",
    "        return obj\n",
    "        \n",
    "    def make_additional_time_data(self, datetime_col_name):\n",
    "        obj = copy.copy(self)\n",
    "        obj.df[datetime_col_name] = pd.to_datetime(obj.df[datetime_col_name])\n",
    "        obj.df['day_of_week'] = obj.df[datetime_col_name].apply(lambda x: x.dayofweek)\n",
    "        obj.df['month'] = obj.df[datetime_col_name].apply(lambda x: x.month)\n",
    "        obj.df['dayofyear'] = obj.df[datetime_col_name].apply(lambda x: x.dayofyear)\n",
    "        obj.df['hour'] = obj.df[datetime_col_name].apply(lambda x: x.hour)\n",
    "        obj.df['time_per_minute'] = obj.df[datetime_col_name].apply(lambda x: x.minute) + obj.df['hour'] * 60\n",
    "        return obj\n",
    "    \n",
    "    def drop_duplicates(self, *need_columns):\n",
    "        obj = copy.copy(self)\n",
    "        obj.df = self.df[list(need_columns)].drop_duplicates(keep='first')\n",
    "        return obj\n",
    "    \n",
    "    def make_profiling_to_file(self, path):\n",
    "        report = pandas_profiling.ProfileReport(self.df, html={'style':{'full_width':True}})\n",
    "        report.to_file(f'{path}{self.city.name}.html')\n",
    "                \n",
    "    "
   ]
  },
  {
   "cell_type": "code",
   "execution_count": 4,
   "metadata": {},
   "outputs": [],
   "source": [
    "cities ={'spb': City(name='spb', path_csv='./datasets/geoflickr_spb.csv'), 'prague': City(name='prague', path_csv='./datasets/geoflickr_prague.csv')}"
   ]
  },
  {
   "cell_type": "code",
   "execution_count": 6,
   "metadata": {},
   "outputs": [],
   "source": [
    "city_key = 'prague'\n",
    "input_data_pr = DataFrameInput(cities[city_key])\n",
    "input_data_pr.read_csv()\n",
    "data_drop_pr = input_data_pr.drop_duplicates('latitude', 'longitude', 'datetaken', 'owner')\n",
    "data_drop_pr = data_drop_pr.make_additional_time_data(datetime_col_name='datetaken')\n",
    "# data_drop_pr.make_plot_3d(z='time_per_minute')\n",
    "# data_drop_pr.make_plot_3d(z='dayofyear')\n",
    "# data_drop_pr.make_profiling_to_file(path='./results/profile_reports/')\n",
    "data_drop_pr.df.to_csv('DjangoPlotLy/site1/app1/data/prague.csv')"
   ]
  },
  {
   "cell_type": "code",
   "execution_count": 7,
   "metadata": {},
   "outputs": [],
   "source": [
    "city_key = 'spb'\n",
    "input_data_spb = DataFrameInput(cities[city_key])\n",
    "input_data_spb.read_csv()\n",
    "data_drop_spb = input_data_spb.drop_duplicates('latitude', 'longitude', 'datetaken', 'owner')\n",
    "data_drop_spb = data_drop_spb.make_additional_time_data(datetime_col_name='datetaken')\n",
    "# data_drop_spb.make_plot_3d(z='time_per_minute')\n",
    "# data_drop_spb.make_plot_3d(z='dayofyear')\n",
    "# data_drop_spb.make_profiling_to_file(path='./results/profile_reports/')\n",
    "data_drop_pr.df.to_csv('DjangoPlotLy/site1/app1/data/spb.csv')"
   ]
  },
  {
   "cell_type": "code",
   "execution_count": null,
   "metadata": {},
   "outputs": [],
   "source": []
  }
 ],
 "metadata": {
  "kernelspec": {
   "display_name": "Python 3",
   "language": "python",
   "name": "python3"
  },
  "language_info": {
   "codemirror_mode": {
    "name": "ipython",
    "version": 3
   },
   "file_extension": ".py",
   "mimetype": "text/x-python",
   "name": "python",
   "nbconvert_exporter": "python",
   "pygments_lexer": "ipython3",
   "version": "3.6.9"
  }
 },
 "nbformat": 4,
 "nbformat_minor": 4
}
